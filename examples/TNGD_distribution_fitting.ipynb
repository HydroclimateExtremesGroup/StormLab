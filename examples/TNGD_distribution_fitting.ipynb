{
 "cells": [
  {
   "cell_type": "code",
   "execution_count": 4,
   "id": "a6f92182-596b-486b-8136-25c2498ca21f",
   "metadata": {},
   "outputs": [],
   "source": [
    "# Example of fitting TNGD distribution using AORC and ERA5 data\n",
    "import pandas as pd\n",
    "import os\n",
    "from stormlab.fit_tngd import fit_tngd"
   ]
  },
  {
   "cell_type": "code",
   "execution_count": 6,
   "id": "d4c22cb6-554d-46bd-b05d-cd19c28caa41",
   "metadata": {},
   "outputs": [],
   "source": [
    "# Get the current working directory (where your Jupyter Notebook is located)\n",
    "notebook_dir = os.getcwd()\n",
    "# Construct the relative path to the data directory\n",
    "era_df_folder = os.path.join(notebook_dir, \"../data/era5/fitting_dataframe\")\n",
    "\n",
    "# local testing:\n",
    "batch_index = 1\n",
    "aorc_df = pd.read_csv(era_df_folder + \"/\" + \"{0}\".format(batch_index) + \"/\" + \"{0}_aorc.csv\".format(batch_index))\n",
    "mtpr_df = pd.read_csv(era_df_folder + \"/\" + \"{0}\".format(batch_index) + \"/\" + \"{0}_mtpr.csv\".format(batch_index))\n",
    "tcwv_df = pd.read_csv(era_df_folder + \"/\" + \"{0}\".format(batch_index) + \"/\" + \"{0}_tcwv.csv\".format(batch_index))\n",
    "\n",
    "\n",
    "# create the training dataframe\n",
    "# get the columns as grid index s\n",
    "grid_index_list = aorc_df.columns\n",
    "grid_index = grid_index_list[0]\n",
    "\n",
    "training_df = pd.DataFrame()\n",
    "training_df['aorc'] = aorc_df[str(grid_index)].values\n",
    "training_df['mean_total_precipitation_rate'] = mtpr_df[str(grid_index)].values\n",
    "training_df['total_column_water_vapour'] = tcwv_df[str(grid_index)].values"
   ]
  },
  {
   "cell_type": "markdown",
   "id": "e0ef6f1a-34c8-4e48-a7d5-3c24df4c8b8c",
   "metadata": {},
   "source": [
    "## TNGD fitting\n",
    "```\n",
    "fit_tngd(data=training_df, y='aorc', x_list=['mean_total_precipitation_rate', 'total_column_water_vapour'], mu_fix=False, sigma_fix=False)\n",
    "```\n",
    "Parameters:\n",
    "- **data**(pandas.dataframe): A dataframe containing target variable and predictor variables. \n",
    "- **y**(str): The column name for the target variable. \n",
    "- **x_list**(list): The list of column names for predictor variables. \n",
    "- **mu_fix**(boolean): Whether to set mu of the gamma distribution as fixed. Default: False. \n",
    "- **sigma_fix**(boolean): Whether to set sigma of the gamma distribution as fixed. Default: False. \n",
    "\n",
    "Returns:\n",
    "- **fitting_df**(pandas.dataframe): A dataframe containing fitted parameters of the TNGD distribution. "
   ]
  },
  {
   "cell_type": "code",
   "execution_count": null,
   "id": "768d24b1-1012-4e19-9573-b9e0f4c6351d",
   "metadata": {},
   "outputs": [],
   "source": [
    "## TNGD fitting\n",
    "```\n",
    "fit_tngd(data=training_df, y='aorc', x_list=['mean_total_precipitation_rate', 'total_column_water_vapour'], mu_fix=False, sigma_fix=False)\n",
    "```"
   ]
  },
  {
   "cell_type": "code",
   "execution_count": 8,
   "id": "31a86fc6-06e0-40f0-af12-75b77d46b971",
   "metadata": {},
   "outputs": [
    {
     "name": "stdout",
     "output_type": "stream",
     "text": [
      "          1         2         3         4         5   mu_clim  sigma_clim  \\\n",
      "0  0.543361  0.619127  0.392533  0.412765  0.018677  0.910814    0.581571   \n",
      "\n",
      "   loc_clim      gg_c  \n",
      "0       0.0  0.485255  \n"
     ]
    }
   ],
   "source": [
    "# Fit the hybrid csgd model\n",
    "fitting_df = fit_tngd(data=training_df, y='aorc', x_list=['mean_total_precipitation_rate', 'total_column_water_vapour'], mu_fix=False, sigma_fix=False)\n",
    "\n",
    "print(fitting_df)"
   ]
  },
  {
   "cell_type": "markdown",
   "id": "ab054c8a-6024-4533-8348-9b7dfd59f483",
   "metadata": {},
   "source": [
    "Fitted parameters corresponds to the following parameters in the paper: \n",
    "- 1: beta_0 in Equation 4\n",
    "- 2: beta_1 in Equation 4\n",
    "- 3: beta_4 in Equation 11 for nonstationary variance. \n",
    "- 4: beta_2 in Equation 4\n",
    "- 5: beta_3 in Equation 4\n",
    "- mu_clim: mu_c in Equation 4 \n",
    "- sigma_clim: sigma_c in Equation 4\n",
    "- loc_clim: this is always zero. \n",
    "- gg_c: shape parameter c in Equation 1."
   ]
  },
  {
   "cell_type": "code",
   "execution_count": null,
   "id": "9872a04a-f1d4-410c-85cb-a0f0ffa1e09c",
   "metadata": {},
   "outputs": [],
   "source": []
  }
 ],
 "metadata": {
  "kernelspec": {
   "display_name": "Python 3 (ipykernel)",
   "language": "python",
   "name": "python3"
  },
  "language_info": {
   "codemirror_mode": {
    "name": "ipython",
    "version": 3
   },
   "file_extension": ".py",
   "mimetype": "text/x-python",
   "name": "python",
   "nbconvert_exporter": "python",
   "pygments_lexer": "ipython3",
   "version": "3.8.19"
  }
 },
 "nbformat": 4,
 "nbformat_minor": 5
}
